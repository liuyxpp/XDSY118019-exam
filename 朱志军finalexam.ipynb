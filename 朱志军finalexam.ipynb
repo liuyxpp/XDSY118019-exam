{
 "cells": [
  {
   "cell_type": "code",
   "execution_count": 2,
   "id": "6b266649",
   "metadata": {},
   "outputs": [],
   "source": [
    "import numpy as np\n",
    "\n",
    "def format_number(num, decimals=0, last_digit=[]):\n",
    "    '''Format a number to a string suitable for the name of a data directory.\n",
    "    Args:\n",
    "        num (float): a float number to be formatted.\n",
    "        decimals (Optional[int]): Number of decimal places to round to. If decimals is negative, it specifies the number of positions to the left of the decimal point. Default: 0 (round to integer).\n",
    "        last_digit (Optional[List(int)]): A list of single digits that is allowed for the last digit of the output number. Default: [] (all digits are allowed).\n",
    "    Returns:\n",
    "        str: a string represents a float number.\n",
    "    '''\n",
    "    decimals = int(decimals)  # ensure it is an integer\n",
    "    num_rounded = round(num, decimals)\n",
    "    if decimals > 0:\n",
    "        format = '{:.' + repr(decimals) + 'f}'\n",
    "        numstr = format.format(num_rounded)\n",
    "    else:\n",
    "        num_rounded = int(num_rounded)\n",
    "        numstr = '{:d}'.format(num_rounded)\n",
    "\n",
    "    numstr = list(numstr)  # to ease manipulation\n",
    "    last = int(numstr[-1])\n",
    "\n",
    "    if last_digit:\n",
    "        if last not in last_digit:\n",
    "            i = np.searchsorted(np.sort(last_digit), last)\n",
    "            if i == 0:\n",
    "                left = last_digit[0]\n",
    "                right = last_digit[1]\n",
    "            elif i == len(last_digit):\n",
    "                left = last_digit[-2]\n",
    "                right = last_digit[-1]\n",
    "            else:\n",
    "                left = last_digit[i - 1]\n",
    "                right = last_digit[i]\n",
    "            numstr[-1] = repr(left)\n",
    "            num_left = float(''.join(numstr))\n",
    "            numstr[-1] = repr(right)\n",
    "            num_right = float(''.join(numstr))\n",
    "            if abs(num) - abs(num_left) < abs(num_right) - abs(num):\n",
    "                numstr[-1] = repr(left)\n",
    "            else:\n",
    "                numstr[-1] = repr(right)\n",
    "\n",
    "    return ''.join(numstr)"
   ]
  },
  {
   "cell_type": "code",
   "execution_count": 6,
   "id": "84421621",
   "metadata": {},
   "outputs": [
    {
     "data": {
      "text/plain": [
       "'3'"
      ]
     },
     "execution_count": 6,
     "metadata": {},
     "output_type": "execute_result"
    }
   ],
   "source": [
    "format_number(3.141)"
   ]
  },
  {
   "cell_type": "code",
   "execution_count": 7,
   "id": "2b2ae58a",
   "metadata": {},
   "outputs": [],
   "source": [
    "import numpy as np\n",
    "from scipy import linalg as lg"
   ]
  },
  {
   "cell_type": "code",
   "execution_count": 11,
   "id": "17a87a7d",
   "metadata": {},
   "outputs": [],
   "source": [
    "arr=np.array([[1,0,-3,0,5],[4,-1,3,-2,9],[0,3,2,-5,1],[0,0,1,-4,7],[9,8,7,6,5]])\n",
    "arrb =np.array([1,2,3,4,5])"
   ]
  },
  {
   "cell_type": "code",
   "execution_count": 12,
   "id": "1a2471ff",
   "metadata": {},
   "outputs": [
    {
     "name": "stdout",
     "output_type": "stream",
     "text": [
      "sol: [-0.86199095  0.78506787  0.37669683  0.14140271  0.59841629]\n"
     ]
    }
   ],
   "source": [
    "print('sol:',lg.solve(arr,arrb))"
   ]
  },
  {
   "cell_type": "code",
   "execution_count": null,
   "id": "2a63f9e5",
   "metadata": {},
   "outputs": [],
   "source": []
  }
 ],
 "metadata": {
  "kernelspec": {
   "display_name": "Python 3 (ipykernel)",
   "language": "python",
   "name": "python3"
  },
  "language_info": {
   "codemirror_mode": {
    "name": "ipython",
    "version": 3
   },
   "file_extension": ".py",
   "mimetype": "text/x-python",
   "name": "python",
   "nbconvert_exporter": "python",
   "pygments_lexer": "ipython3",
   "version": "3.9.12"
  }
 },
 "nbformat": 4,
 "nbformat_minor": 5
}
