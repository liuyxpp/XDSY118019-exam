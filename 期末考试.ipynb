{
 "cells": [
  {
   "cell_type": "code",
   "execution_count": 2,
   "metadata": {},
   "outputs": [
    {
     "name": "stderr",
     "output_type": "stream",
     "text": [
      "<>:28: SyntaxWarning: invalid escape sequence '\\d'\n",
      "<>:28: SyntaxWarning: invalid escape sequence '\\d'\n",
      "C:\\Users\\hw\\AppData\\Local\\Temp\\ipykernel_17644\\1122312717.py:28: SyntaxWarning: invalid escape sequence '\\d'\n",
      "  pattern = '([-+]?\\d*\\.\\d+|[-+]?\\d+)'\n"
     ]
    }
   ],
   "source": [
    "import re\n",
    "\n",
    "def find_name_value(folder_name):\n",
    "        '''Split the name of a data directory into a (name, value) tuple.\n",
    "\n",
    "        The format of ``folder_name``:\n",
    "\n",
    "            <name><value>\n",
    "\n",
    "        If the value is negative, it should be followed by a 'n'.\n",
    "\n",
    "        Examples:\n",
    "            ::\n",
    "\n",
    "                phi0.1          # should return 'phi', 0.1\n",
    "                xN14.2          # should return 'xN', 14.2\n",
    "                kappa0.5n       # should return 'kappa', -0.5\n",
    "\n",
    "        Args:\n",
    "            folder_name (str): the name of a :term:`data directory`.\n",
    "\n",
    "        Returns:\n",
    "            tuple: a tuple contains:\n",
    "\n",
    "                * name (str): variable name.\n",
    "                * value (float): value of the variable.\n",
    "        '''\n",
    "        pattern = '([-+]?\\d*\\.\\d+|[-+]?\\d+)'\n",
    "        rst = re.split(pattern, folder_name)\n",
    "        if len(rst) < 2:\n",
    "            return folder_name, None\n",
    "        name = rst[0]\n",
    "        valuestr = rst[1]\n",
    "        sign_str = ''\n",
    "        if len(rst) > 2:\n",
    "            sign_str = rst[2]\n",
    "        if sign_str == 'n':\n",
    "            value = '-' + valuestr\n",
    "        else:\n",
    "            value = valuestr\n",
    "\n",
    "        return name, float(value)"
   ]
  },
  {
   "cell_type": "code",
   "execution_count": 2,
   "metadata": {},
   "outputs": [
    {
     "data": {
      "text/plain": [
       "('abc', 123.0)"
      ]
     },
     "execution_count": 2,
     "metadata": {},
     "output_type": "execute_result"
    }
   ],
   "source": [
    "find_name_value('abc123')"
   ]
  },
  {
   "cell_type": "code",
   "execution_count": 3,
   "metadata": {},
   "outputs": [
    {
     "data": {
      "text/plain": [
       "('abcn', -123.0)"
      ]
     },
     "execution_count": 3,
     "metadata": {},
     "output_type": "execute_result"
    }
   ],
   "source": [
    "find_name_value('abcn123n')"
   ]
  },
  {
   "cell_type": "code",
   "execution_count": 4,
   "metadata": {},
   "outputs": [
    {
     "data": {
      "text/plain": [
       "('abcs', 123.0)"
      ]
     },
     "execution_count": 4,
     "metadata": {},
     "output_type": "execute_result"
    }
   ],
   "source": [
    "find_name_value('abcs123s')"
   ]
  },
  {
   "cell_type": "code",
   "execution_count": 5,
   "metadata": {},
   "outputs": [
    {
     "data": {
      "text/plain": [
       "('abc', None)"
      ]
     },
     "execution_count": 5,
     "metadata": {},
     "output_type": "execute_result"
    }
   ],
   "source": [
    "find_name_value('abc')"
   ]
  },
  {
   "cell_type": "code",
   "execution_count": 6,
   "metadata": {},
   "outputs": [
    {
     "data": {
      "text/plain": [
       "('', 123.0)"
      ]
     },
     "execution_count": 6,
     "metadata": {},
     "output_type": "execute_result"
    }
   ],
   "source": [
    "find_name_value('123')"
   ]
  },
  {
   "cell_type": "code",
   "execution_count": 7,
   "metadata": {},
   "outputs": [
    {
     "data": {
      "text/plain": [
       "('', -123.0)"
      ]
     },
     "execution_count": 7,
     "metadata": {},
     "output_type": "execute_result"
    }
   ],
   "source": [
    "find_name_value('123n')"
   ]
  },
  {
   "cell_type": "code",
   "execution_count": 8,
   "metadata": {},
   "outputs": [
    {
     "data": {
      "text/plain": [
       "('', None)"
      ]
     },
     "execution_count": 8,
     "metadata": {},
     "output_type": "execute_result"
    }
   ],
   "source": [
    "find_name_value('')"
   ]
  },
  {
   "cell_type": "code",
   "execution_count": 9,
   "metadata": {},
   "outputs": [
    {
     "data": {
      "text/plain": [
       "('phi', 0.1)"
      ]
     },
     "execution_count": 9,
     "metadata": {},
     "output_type": "execute_result"
    }
   ],
   "source": [
    "find_name_value('phi0.1_xN14.2_kappa0.5n')"
   ]
  },
  {
   "cell_type": "code",
   "execution_count": 3,
   "metadata": {},
   "outputs": [
    {
     "data": {
      "text/plain": [
       "('', 123.0)"
      ]
     },
     "execution_count": 3,
     "metadata": {},
     "output_type": "execute_result"
    }
   ],
   "source": [
    "find_name_value('123abc')"
   ]
  },
  {
   "cell_type": "code",
   "execution_count": 5,
   "metadata": {},
   "outputs": [
    {
     "data": {
      "text/plain": [
       "('abc!', 123.0)"
      ]
     },
     "execution_count": 5,
     "metadata": {},
     "output_type": "execute_result"
    }
   ],
   "source": [
    "find_name_value('abc!123')"
   ]
  },
  {
   "cell_type": "code",
   "execution_count": 1,
   "metadata": {},
   "outputs": [
    {
     "name": "stdout",
     "output_type": "stream",
     "text": [
      "{'phi': 0.1, 'xN': 14.2, 'kappa': -0.5}\n",
      "{'a': 1.0, 'b': -14.0, 'n': 0.0, 'c': 0.2}\n"
     ]
    }
   ],
   "source": [
    "import re  \n",
    "\n",
    "def find_multiple_name_values(folder_name):  \n",
    "    '''Split the names and values from a combined directory name into a dictionary.  \n",
    "\n",
    "    The format of ``folder_name``:  \n",
    "        <name><value>[_<name><value>]...  \n",
    "\n",
    "    If the value is negative, it should be followed by a 'n'.  \n",
    "\n",
    "    Args:  \n",
    "        folder_name (str): the name of a data directory.  \n",
    "\n",
    "    Returns:  \n",
    "        dict: a dictionary where keys are variable names and values are their corresponding float values.  \n",
    "    '''  \n",
    "    \n",
    "    # Regex pattern to capture name-value pairs  \n",
    "    pattern = r'([a-zA-Z]+)(-?\\d*\\.?\\d+)(n?)'  \n",
    "    matches = re.findall(pattern, folder_name)  # Find all matches  \n",
    "    \n",
    "    result = {}  \n",
    "    for match in matches:  \n",
    "        name = match[0]  # Variable name  \n",
    "        value_str = match[1]  # Value string  \n",
    "        negative_suffix = match[2]  # 'n' suffix if present  \n",
    "        \n",
    "        # Convert the value string to float  \n",
    "        value = float(value_str)  \n",
    "        \n",
    "        # Adjust the value if the negative suffix 'n' was found  \n",
    "        if negative_suffix == 'n':  \n",
    "            value = -value  \n",
    "            \n",
    "        result[name] = value  # Add to result dictionary  \n",
    "    \n",
    "    return result  \n",
    "\n",
    "# 测试代码  \n",
    "folder_name1 = \"phi0.1_xN14.2_kappa0.5n\"  \n",
    "folder_name2 = \"a1_b14n_n0_c0.2\"  \n",
    "\n",
    "result1 = find_multiple_name_values(folder_name1)  \n",
    "result2 = find_multiple_name_values(folder_name2)  \n",
    "\n",
    "print(result1)  # 打印结果：{'phi': 0.1, 'xN': 14.2, 'kappa': -0.5}  \n",
    "print(result2)  # 打印结果：{'a': 1.0, 'b': -14.0, 'n': 0.0, 'c': 0.2}"
   ]
  }
 ],
 "metadata": {
  "kernelspec": {
   "display_name": "Python 3",
   "language": "python",
   "name": "python3"
  },
  "language_info": {
   "codemirror_mode": {
    "name": "ipython",
    "version": 3
   },
   "file_extension": ".py",
   "mimetype": "text/x-python",
   "name": "python",
   "nbconvert_exporter": "python",
   "pygments_lexer": "ipython3",
   "version": "3.12.4"
  }
 },
 "nbformat": 4,
 "nbformat_minor": 2
}
