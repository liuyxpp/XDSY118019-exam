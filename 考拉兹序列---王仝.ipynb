{
 "cells": [
  {
   "cell_type": "code",
   "execution_count": null,
   "id": "4d2c03f7",
   "metadata": {},
   "outputs": [],
   "source": [
    "#用python代码实现考拉兹数列\n",
    "\n",
    "\n",
    "import matplotlib.pyplot as plt                                                     #引入模块\n",
    "import os\n",
    "def main(n):\n",
    "    x_list = []\n",
    "    y_list = []\n",
    "    num = 1\n",
    "\n",
    "    def Collatz(n):                                                                 #定义函数\n",
    "        nonlocal num\n",
    "        x_list.append(num)\n",
    "        num += 1\n",
    "        y_list.append(n)\n",
    "        if n != 1:\n",
    "            if n % 2:  # odd\n",
    "                n = 3 * n + 1\n",
    "            else:\n",
    "                n /= 2\n",
    "                n = int(n)\n",
    "            return Collatz(n)\n",
    "        else:\n",
    "            return None\n",
    "\n",
    "    Collatz(n)\n",
    "    print(f\"n = {n}的考拉兹序列为：{','.join(list(map(str, y_list)))}\")             #输出结果\n",
    "    fig, ax = plt.subplots()\n",
    "    ax.scatter(x_list, y_list)                                                      #绘制散点图\n",
    "    ax.set_title(f\"Collatz {n}\")                                                    #设置标题\n",
    "    ax.set_xlabel(\"Times\")                                                          #设置x标签\n",
    "    ax.set_ylabel(\"Numbers\")                                                        #设置y标签                   \n",
    "    plt.savefig(f\"{os.getcwd()}/Collatz Conjecture image/Collatz {n}.png\")          #得到图形\n",
    "\n",
    "if __name__ == '__main__':\n",
    "    while True:\n",
    "        n = input(\"输入：\")\n",
    "        if n.isdigit():\n",
    "            main(int(n))\n",
    "        else:\n",
    "            break\n",
    "\n",
    "#对考拉兹序列树的思考：\n",
    "        #将Collatz序列倒序思考，数字1作为起点。将翻倍的操作比作生长，将减1除以3的操作比作分支生长，则Collatz树上的所有元素可以铺满整个正整数空间。\n",
    "        #在Collatz树上，分支的节点一定是一个不唯一奇数，这个不唯一的奇数起到了主干上1的作用，由这个分支衍生出的数字都会追溯到这个节点从而回归主干。\n",
    "            "
   ]
  }
 ],
 "metadata": {
  "kernelspec": {
   "display_name": "Python 3 (ipykernel)",
   "language": "python",
   "name": "python3"
  },
  "language_info": {
   "codemirror_mode": {
    "name": "ipython",
    "version": 3
   },
   "file_extension": ".py",
   "mimetype": "text/x-python",
   "name": "python",
   "nbconvert_exporter": "python",
   "pygments_lexer": "ipython3",
   "version": "3.9.12"
  }
 },
 "nbformat": 4,
 "nbformat_minor": 5
}
