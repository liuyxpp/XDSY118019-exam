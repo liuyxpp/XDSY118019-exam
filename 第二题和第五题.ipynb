{
 "cells": [
  {
   "cell_type": "markdown",
   "metadata": {},
   "source": []
  },
  {
   "cell_type": "markdown",
   "metadata": {},
   "source": [
    "# 第二问   "
   ]
  },
  {
   "cell_type": "code",
   "execution_count": 2,
   "metadata": {},
   "outputs": [
    {
     "name": "stdout",
     "output_type": "stream",
     "text": [
      "[-0.86199095  0.78506787  0.37669683  0.14140271  0.59841629]\n"
     ]
    }
   ],
   "source": [
    "import numpy as np \n",
    "\n",
    "A = np.array(\n",
    "    [\n",
    "        [1,0,-3,0,5],\n",
    "        [4,-1,3,-2,9],\n",
    "        [0,3,2,-5,1],\n",
    "        [0,0,1,-4,7],\n",
    "        [9,8,7,6,5]\n",
    "    ]\n",
    ")\n",
    "b=np.array([\n",
    "    1,2,3,4,5\n",
    "])\n",
    "\n",
    "re=np.linalg.inv(A)@b\n",
    "print(re)"
   ]
  },
  {
   "cell_type": "markdown",
   "metadata": {},
   "source": [
    "# 第五题"
   ]
  },
  {
   "cell_type": "markdown",
   "metadata": {},
   "source": [
    "The **Riemann zeta function** or **Euler–Riemann** zeta function, denoted by the Greek letter $\\zeta$ (zeta),\n",
    "is a mathematical function of a complex variable   $s=\\sigma +it$  defined as\n",
    "\n",
    "$$\n",
    "\\zeta(s)=\\sum^{\\infty}_{n=1}\\frac{1}{n^{s}} =\\frac{1}{1^{s}}+\\frac{1}{2^{s}}+\\frac{3}{1^{s}}+···\n",
    "$$\n",
    "\n",
    "for $Re(s)>1 $ and its analytic continuation elsewhere. When $Re(s)=\\sigma >1$ , the function can be written as a converging summation or integral:\n",
    "\n",
    "$$\n",
    "\\zeta(s)=\\sum^{\\infty}_{n=1}\\frac{1}{n^{s}} =\\frac{1}{\\Gamma(s)}\\int^{\\infty}_{0}\\frac{x^{s-1}}{e^{x}-1}dx\n",
    "$$ \n",
    "\n",
    "where\n",
    "\n",
    "$$\n",
    "\\Gamma(s)=\\int^{\\infty}_{0}x^{s-1}e^{-x}dx\n",
    "$$\n",
    "\n",
    "is the gamma function.\n",
    "\n",
    "In 1737, the connection between the zeta function and prime numbers was discovered by Euler, who\n",
    "proved the identity\n",
    "\n",
    "$$\n",
    "\\sum^{\\infty}_{n=1}\\frac{1}{n^{s}}=\\prod_{p prime}\\frac{1}{1-p^{-s}}, \n",
    "$$\n",
    "\n",
    "where, by definition, the left hand side is $\\zeta(s)$ and the infinite product on the right hand side extends\n",
    "over all prime numbers $p$ (such expressions are called Euler products):\n",
    "\n",
    "$$\n",
    "\\prod_{p prime}\\frac{1}{1-p^{-s}}=\\frac{1}{1-2^{-s}}·\\frac{1}{1-3^{-s}}·\\frac{1}{1-5^{-s}}·\\frac{1}{1-7^{-s}}·\\frac{1}{1-11^{-s}}···\\frac{1}{1-p^{-s}}···\n",
    "$$\n",
    "\n",
    "Both sides of the Euler product formula converge for $Re(s)>1$ "
   ]
  }
 ],
 "metadata": {
  "kernelspec": {
   "display_name": "Python 3.7.0 ('base')",
   "language": "python",
   "name": "python3"
  },
  "language_info": {
   "codemirror_mode": {
    "name": "ipython",
    "version": 3
   },
   "file_extension": ".py",
   "mimetype": "text/x-python",
   "name": "python",
   "nbconvert_exporter": "python",
   "pygments_lexer": "ipython3",
   "version": "3.7.0"
  },
  "orig_nbformat": 4,
  "vscode": {
   "interpreter": {
    "hash": "91bb753b057673435fb8d6f6a083e6c818364728098c7ae050ca3a25357dd754"
   }
  }
 },
 "nbformat": 4,
 "nbformat_minor": 2
}
