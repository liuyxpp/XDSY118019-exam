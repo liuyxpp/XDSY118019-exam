{
 "cells": [
  {
   "cell_type": "code",
   "execution_count": 5,
   "id": "4f805920",
   "metadata": {},
   "outputs": [
    {
     "name": "stdout",
     "output_type": "stream",
     "text": [
      "请输入正整数：27\n",
      "n=27的考拉兹序列为：27,82,41,124,62,31,94,47,142,71,214,107,322,161,484,242,121,364,182,91,274,137,412,206,103,310,155,466,233,700,350,175,526,263,790,395,1186,593,1780,890,445,1336,668,334,167,502,251,754,377,1132,566,283,850,425,1276,638,319,958,479,1438,719,2158,1079,3238,1619,4858,2429,7288,3644,1822,911,2734,1367,4102,2051,6154,3077,9232,4616,2308,1154,577,1732,866,433,1300,650,325,976,488,244,122,61,184,92,46,23,70,35,106,53,160,80,40,20,10,5,16,8,4,2,1.\n"
     ]
    }
   ],
   "source": [
    "a=[]\n",
    "\n",
    "n = int(input(\"请输入正整数：\"))\n",
    "a.append(n)\n",
    "print(\"n=%s的考拉兹序列为：\"%n,end='')\n",
    "\n",
    "while True:\n",
    "    if n % 2 == 1 and n != 1:#若n为奇数则将其乘以3后再加1\n",
    "        n = n*3+1\n",
    "        a.append(n)\n",
    "    \n",
    "    if n % 2 == 0:#若n为偶数这将其除以2\n",
    "        n = n/2\n",
    "        a.append(n)\n",
    "        \n",
    "    if n == 1:#若为1，结束循环\n",
    "        for i in a:\n",
    "            print(int(i),end=',')\n",
    "        break\n",
    "        \n",
    "print(\"\\b.\")#更改最后一个符号为."
   ]
  },
  {
   "cell_type": "code",
   "execution_count": 6,
   "id": "c0469251",
   "metadata": {},
   "outputs": [],
   "source": [
    "b = []\n",
    "for i in range(len(a)):\n",
    "    b.append(i+1)"
   ]
  },
  {
   "cell_type": "code",
   "execution_count": 7,
   "id": "d7bf085a",
   "metadata": {},
   "outputs": [
    {
     "name": "stdout",
     "output_type": "stream",
     "text": [
      "          3         2\n",
      "-0.01827 x + 2.412 x - 55.65 x + 361.3\n"
     ]
    },
    {
     "data": {
      "image/png": "[encoded data removed]",
      "text/plain": [
       "<Figure size 432x288 with 1 Axes>"
      ]
     },
     "metadata": {
      "needs_background": "light"
     },
     "output_type": "display_data"
    },
    {
     "data": {
      "text/plain": [
       "<Figure size 432x288 with 0 Axes>"
      ]
     },
     "metadata": {},
     "output_type": "display_data"
    }
   ],
   "source": [
    "import pylab\n",
    "import numpy as np\n",
    "\n",
    "if __name__ == \"__main__\":\n",
    "  x = np.array(b)\n",
    "  y = np.array(a)\n",
    "\n",
    "  z1 = np.polyfit(x, y, 3)              # 曲线拟合，返回值为多项式的各项系数\n",
    "  p1 = np.poly1d(z1)                    # 返回值为多项式的表达式，也就是函数式子\n",
    "  print(p1)\n",
    "  y_pred = p1(x)                        # 根据函数的多项式表达式，求解 y\n",
    "  # print(np.polyval(p1,** ))             根据多项式求解特定 x 对应的 y 值\n",
    "  # print(np.polyval(z1, **))             根据多项式求解特定 x 对应的 y 值\n",
    "\n",
    "  plot1 = pylab.plot(x, y, '*', label='original values')\n",
    "  plot2 = pylab.plot(x, y_pred, 'r', label='fit values')\n",
    "  pylab.title('')\n",
    "  pylab.xlabel('')\n",
    "  pylab.ylabel('')\n",
    "  pylab.legend(loc=3, borderaxespad=0., bbox_to_anchor=(0, 0))\n",
    "  pylab.show()\n",
    "  pylab.savefig('p1.png', dpi=200, bbox_inches='tight')"
   ]
  },
  {
   "cell_type": "code",
   "execution_count": null,
   "id": "5e3db5b1",
   "metadata": {},
   "outputs": [],
   "source": []
  }
 ],
 "metadata": {
  "kernelspec": {
   "display_name": "Python 3 (ipykernel)",
   "language": "python",
   "name": "python3"
  },
  "language_info": {
   "codemirror_mode": {
    "name": "ipython",
    "version": 3
   },
   "file_extension": ".py",
   "mimetype": "text/x-python",
   "name": "python",
   "nbconvert_exporter": "python",
   "pygments_lexer": "ipython3",
   "version": "3.9.12"
  }
 },
 "nbformat": 4,
 "nbformat_minor": 5
}
