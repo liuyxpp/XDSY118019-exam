{
 "cells": [
  {
   "cell_type": "code",
   "execution_count": 32,
   "metadata": {},
   "outputs": [
    {
     "ename": "NameError",
     "evalue": "name '左端点' is not defined",
     "output_type": "error",
     "traceback": [
      "\u001b[1;31m---------------------------------------------------------------------------\u001b[0m",
      "\u001b[1;31mNameError\u001b[0m                                 Traceback (most recent call last)",
      "\u001b[1;32md:\\FDU\\fdu\\课\\大三上\\跨入科学之门 计算机的应用\\vscode final pj\\考试一.ipynb Cell 1\u001b[0m line \u001b[0;36m6\n\u001b[0;32m      <a href='vscode-notebook-cell:/d%3A/FDU/fdu/%E8%AF%BE/%E5%A4%A7%E4%B8%89%E4%B8%8A/%E8%B7%A8%E5%85%A5%E7%A7%91%E5%AD%A6%E4%B9%8B%E9%97%A8%20%E8%AE%A1%E7%AE%97%E6%9C%BA%E7%9A%84%E5%BA%94%E7%94%A8/vscode%20final%20pj/%E8%80%83%E8%AF%95%E4%B8%80.ipynb#W0sZmlsZQ%3D%3D?line=2'>3</a>\u001b[0m \u001b[39mdef\u001b[39;00m \u001b[39mf\u001b[39m(x):\n\u001b[0;32m      <a href='vscode-notebook-cell:/d%3A/FDU/fdu/%E8%AF%BE/%E5%A4%A7%E4%B8%89%E4%B8%8A/%E8%B7%A8%E5%85%A5%E7%A7%91%E5%AD%A6%E4%B9%8B%E9%97%A8%20%E8%AE%A1%E7%AE%97%E6%9C%BA%E7%9A%84%E5%BA%94%E7%94%A8/vscode%20final%20pj/%E8%80%83%E8%AF%95%E4%B8%80.ipynb#W0sZmlsZQ%3D%3D?line=3'>4</a>\u001b[0m     \u001b[39mreturn\u001b[39;00m 以x为单变量的函数\n\u001b[1;32m----> <a href='vscode-notebook-cell:/d%3A/FDU/fdu/%E8%AF%BE/%E5%A4%A7%E4%B8%89%E4%B8%8A/%E8%B7%A8%E5%85%A5%E7%A7%91%E5%AD%A6%E4%B9%8B%E9%97%A8%20%E8%AE%A1%E7%AE%97%E6%9C%BA%E7%9A%84%E5%BA%94%E7%94%A8/vscode%20final%20pj/%E8%80%83%E8%AF%95%E4%B8%80.ipynb#W0sZmlsZQ%3D%3D?line=5'>6</a>\u001b[0m a \u001b[39m=\u001b[39m 左端点\n\u001b[0;32m      <a href='vscode-notebook-cell:/d%3A/FDU/fdu/%E8%AF%BE/%E5%A4%A7%E4%B8%89%E4%B8%8A/%E8%B7%A8%E5%85%A5%E7%A7%91%E5%AD%A6%E4%B9%8B%E9%97%A8%20%E8%AE%A1%E7%AE%97%E6%9C%BA%E7%9A%84%E5%BA%94%E7%94%A8/vscode%20final%20pj/%E8%80%83%E8%AF%95%E4%B8%80.ipynb#W0sZmlsZQ%3D%3D?line=6'>7</a>\u001b[0m b \u001b[39m=\u001b[39m 右端点\n\u001b[0;32m      <a href='vscode-notebook-cell:/d%3A/FDU/fdu/%E8%AF%BE/%E5%A4%A7%E4%B8%89%E4%B8%8A/%E8%B7%A8%E5%85%A5%E7%A7%91%E5%AD%A6%E4%B9%8B%E9%97%A8%20%E8%AE%A1%E7%AE%97%E6%9C%BA%E7%9A%84%E5%BA%94%E7%94%A8/vscode%20final%20pj/%E8%80%83%E8%AF%95%E4%B8%80.ipynb#W0sZmlsZQ%3D%3D?line=7'>8</a>\u001b[0m epsilon \u001b[39m=\u001b[39m 目标误差\n",
      "\u001b[1;31mNameError\u001b[0m: name '左端点' is not defined"
     ]
    }
   ],
   "source": [
    "#问题一\n",
    "#定义函数，给出区间端点和目标误差\n",
    "def f(x):\n",
    "    return 以x为单变量的函数\n",
    "\n",
    "a = 左端点\n",
    "b = 右端点\n",
    "epsilon = 目标误差\n",
    "\n",
    "#用Bisection算法求根\n",
    "while (b-a)/2 > epsilon:\n",
    "    midpoint = (a+b)/2\n",
    "    if f(midpoint) == 0:\n",
    "        print(midpoint)\n",
    "        break\n",
    "    elif f(a)*f(midpoint) < 0:\n",
    "        b = midpoint\n",
    "    elif f(a)*f(midpoint) > 0:\n",
    "        a = midpoint\n",
    "print(midpoint)"
   ]
  },
  {
   "cell_type": "code",
   "execution_count": null,
   "metadata": {},
   "outputs": [
    {
     "ename": "NameError",
     "evalue": "name '输入根的估计值' is not defined",
     "output_type": "error",
     "traceback": [
      "\u001b[1;31m---------------------------------------------------------------------------\u001b[0m",
      "\u001b[1;31mNameError\u001b[0m                                 Traceback (most recent call last)",
      "\u001b[1;32md:\\FDU\\fdu\\课\\大三上\\跨入科学之门 计算机的应用\\vscode final pj\\考试一.ipynb Cell 2\u001b[0m line \u001b[0;36m8\n\u001b[0;32m      <a href='vscode-notebook-cell:/d%3A/FDU/fdu/%E8%AF%BE/%E5%A4%A7%E4%B8%89%E4%B8%8A/%E8%B7%A8%E5%85%A5%E7%A7%91%E5%AD%A6%E4%B9%8B%E9%97%A8%20%E8%AE%A1%E7%AE%97%E6%9C%BA%E7%9A%84%E5%BA%94%E7%94%A8/vscode%20final%20pj/%E8%80%83%E8%AF%95%E4%B8%80.ipynb#W1sZmlsZQ%3D%3D?line=4'>5</a>\u001b[0m \u001b[39mdef\u001b[39;00m \u001b[39mdf\u001b[39m(x):\n\u001b[0;32m      <a href='vscode-notebook-cell:/d%3A/FDU/fdu/%E8%AF%BE/%E5%A4%A7%E4%B8%89%E4%B8%8A/%E8%B7%A8%E5%85%A5%E7%A7%91%E5%AD%A6%E4%B9%8B%E9%97%A8%20%E8%AE%A1%E7%AE%97%E6%9C%BA%E7%9A%84%E5%BA%94%E7%94%A8/vscode%20final%20pj/%E8%80%83%E8%AF%95%E4%B8%80.ipynb#W1sZmlsZQ%3D%3D?line=5'>6</a>\u001b[0m     \u001b[39mreturn\u001b[39;00m 输入f的导数\n\u001b[1;32m----> <a href='vscode-notebook-cell:/d%3A/FDU/fdu/%E8%AF%BE/%E5%A4%A7%E4%B8%89%E4%B8%8A/%E8%B7%A8%E5%85%A5%E7%A7%91%E5%AD%A6%E4%B9%8B%E9%97%A8%20%E8%AE%A1%E7%AE%97%E6%9C%BA%E7%9A%84%E5%BA%94%E7%94%A8/vscode%20final%20pj/%E8%80%83%E8%AF%95%E4%B8%80.ipynb#W1sZmlsZQ%3D%3D?line=7'>8</a>\u001b[0m x_0\u001b[39m=\u001b[39m输入根的估计值\n\u001b[0;32m      <a href='vscode-notebook-cell:/d%3A/FDU/fdu/%E8%AF%BE/%E5%A4%A7%E4%B8%89%E4%B8%8A/%E8%B7%A8%E5%85%A5%E7%A7%91%E5%AD%A6%E4%B9%8B%E9%97%A8%20%E8%AE%A1%E7%AE%97%E6%9C%BA%E7%9A%84%E5%BA%94%E7%94%A8/vscode%20final%20pj/%E8%80%83%E8%AF%95%E4%B8%80.ipynb#W1sZmlsZQ%3D%3D?line=8'>9</a>\u001b[0m a\u001b[39m=\u001b[39m输入左端点\n\u001b[0;32m     <a href='vscode-notebook-cell:/d%3A/FDU/fdu/%E8%AF%BE/%E5%A4%A7%E4%B8%89%E4%B8%8A/%E8%B7%A8%E5%85%A5%E7%A7%91%E5%AD%A6%E4%B9%8B%E9%97%A8%20%E8%AE%A1%E7%AE%97%E6%9C%BA%E7%9A%84%E5%BA%94%E7%94%A8/vscode%20final%20pj/%E8%80%83%E8%AF%95%E4%B8%80.ipynb#W1sZmlsZQ%3D%3D?line=9'>10</a>\u001b[0m b\u001b[39m=\u001b[39m输入右端点\n",
      "\u001b[1;31mNameError\u001b[0m: name '输入根的估计值' is not defined"
     ]
    }
   ],
   "source": [
    "#问题二 Newton算法函数\n",
    "#定义函数以及导数，给出区间端点和目标误差\n",
    "def f(x):\n",
    "    return 以x为单变量的函数\n",
    "\n",
    "def df(x):\n",
    "    return f的导数\n",
    "\n",
    "x_0 = 根的估计值\n",
    "a = 左端点\n",
    "b = 右端点\n",
    "epsilon = 目标误差\n",
    "\n",
    "#用Newton算法求根\n",
    "def h(x):\n",
    "    return x - f(x)/df(x)\n",
    "\n",
    "x_1 = h(x_0)\n",
    "if abs(x_0-x_1) >= epsilon:\n",
    "    x_0 = x_1\n",
    "\n",
    "print((x_0+x_1)/2)"
   ]
  },
  {
   "cell_type": "code",
   "execution_count": null,
   "metadata": {},
   "outputs": [],
   "source": [
    "#问题三\n",
    "from scipy.optimize import root_scalar\n",
    "import math\n",
    "import numpy as np"
   ]
  },
  {
   "cell_type": "code",
   "execution_count": null,
   "metadata": {},
   "outputs": [],
   "source": [
    "#第一问，由于该函数在区间内有两个根，分为两个区间分别用scipy中求根函数求解\n",
    "def f1(x):\n",
    "    return 2*x - math.tan(x)"
   ]
  },
  {
   "cell_type": "code",
   "execution_count": null,
   "metadata": {},
   "outputs": [
    {
     "data": {
      "text/plain": [
       "      converged: True\n",
       "           flag: converged\n",
       " function_calls: 41\n",
       "     iterations: 39\n",
       "           root: -1.0914047443577601e-12"
      ]
     },
     "execution_count": 5,
     "metadata": {},
     "output_type": "execute_result"
    }
   ],
   "source": [
    "root_scalar(f1, method='bisect', bracket=[-0.2, 0.8])"
   ]
  },
  {
   "cell_type": "code",
   "execution_count": null,
   "metadata": {},
   "outputs": [
    {
     "data": {
      "text/plain": [
       "      converged: True\n",
       "           flag: converged\n",
       " function_calls: 41\n",
       "     iterations: 39\n",
       "           root: 1.165561185206389"
      ]
     },
     "execution_count": 6,
     "metadata": {},
     "output_type": "execute_result"
    }
   ],
   "source": [
    "root_scalar(f1, method='bisect', bracket=[0.8, 1.4])"
   ]
  },
  {
   "cell_type": "code",
   "execution_count": null,
   "metadata": {},
   "outputs": [
    {
     "name": "stdout",
     "output_type": "stream",
     "text": [
      "6.984920419839114e-11\n"
     ]
    }
   ],
   "source": [
    "#用Bisection方法\n",
    "def f(x):\n",
    "    return 2*x - math.tan(x)\n",
    "a = -0.2\n",
    "b = 0.8\n",
    "epsilon = 1e-10\n",
    "\n",
    "while (b-a)/2 > epsilon:\n",
    "    midpoint = (a+b)/2\n",
    "    if f(midpoint) == 0:\n",
    "        print(midpoint)\n",
    "        break\n",
    "    elif f(a)*f(midpoint) < 0:\n",
    "        b = midpoint\n",
    "    elif f(a)*f(midpoint) > 0:\n",
    "        a = midpoint\n",
    "print(midpoint)"
   ]
  },
  {
   "cell_type": "code",
   "execution_count": null,
   "metadata": {},
   "outputs": [
    {
     "name": "stdout",
     "output_type": "stream",
     "text": [
      "1.1655611850786949\n"
     ]
    }
   ],
   "source": [
    "def f(x):\n",
    "    return 2*x - math.tan(x)\n",
    "a = 0.8\n",
    "b = 1.4\n",
    "epsilon = 1e-10\n",
    "\n",
    "while (b-a)/2 > epsilon:\n",
    "    midpoint = (a+b)/2\n",
    "    if f(midpoint) == 0:\n",
    "        print(midpoint)\n",
    "        break\n",
    "    elif f(a)*f(midpoint) < 0:\n",
    "        b = midpoint\n",
    "    elif f(a)*f(midpoint) > 0:\n",
    "        a = midpoint\n",
    "print(midpoint)"
   ]
  },
  {
   "cell_type": "code",
   "execution_count": null,
   "metadata": {},
   "outputs": [
    {
     "name": "stdout",
     "output_type": "stream",
     "text": [
      "0.0003333334444445056\n"
     ]
    }
   ],
   "source": [
    "#用Newton法\n",
    "def f(x):\n",
    "    return 2*x - math.tan(x)\n",
    "\n",
    "def df(x):\n",
    "    return 2 - 1/((math.cos(x))*2)\n",
    "\n",
    "x_0 = 0.001\n",
    "a = -0.2\n",
    "b = 0.8\n",
    "epsilon = 10**-10\n",
    "\n",
    "def h(x):\n",
    "    return x - f(x)/df(x)\n",
    "\n",
    "x_1 = h(x_0)\n",
    "if abs(x_0-x_1) >= epsilon:\n",
    "    x_0 = x_1\n",
    "\n",
    "print((x_0+x_1)/2)"
   ]
  },
  {
   "cell_type": "code",
   "execution_count": null,
   "metadata": {},
   "outputs": [
    {
     "name": "stdout",
     "output_type": "stream",
     "text": [
      "1.1616134047914977\n"
     ]
    }
   ],
   "source": [
    "def f(x):\n",
    "    return 2*x - math.tan(x)\n",
    "\n",
    "def df(x):\n",
    "    return 2 - 1/((math.cos(x))*2)\n",
    "\n",
    "x_0 = 1.165\n",
    "a = 0.8\n",
    "b = 1.4\n",
    "epsilon = 10**-10\n",
    "\n",
    "def h(x):\n",
    "    return x - f(x)/df(x)\n",
    "\n",
    "x_1 = h(x_0)\n",
    "if abs(x_0-x_1) >= epsilon:\n",
    "    x_0 = x_1\n",
    "\n",
    "print((x_0+x_1)/2)"
   ]
  },
  {
   "cell_type": "code",
   "execution_count": null,
   "metadata": {},
   "outputs": [],
   "source": [
    "#第二问，由于该连续函数恒非负，故根与导函数根重合，以下用scipy求导函数的根\n",
    "def df2(x):\n",
    "    return np.exp(x+1)-1"
   ]
  },
  {
   "cell_type": "code",
   "execution_count": null,
   "metadata": {},
   "outputs": [
    {
     "data": {
      "text/plain": [
       "      converged: True\n",
       "           flag: converged\n",
       " function_calls: 4\n",
       "     iterations: 2\n",
       "           root: -1.0"
      ]
     },
     "execution_count": 16,
     "metadata": {},
     "output_type": "execute_result"
    }
   ],
   "source": [
    "root_scalar(df2, method='bisect', bracket=[-2, 2])"
   ]
  },
  {
   "cell_type": "code",
   "execution_count": null,
   "metadata": {},
   "outputs": [
    {
     "name": "stdout",
     "output_type": "stream",
     "text": [
      "-1.0491668055224925\n"
     ]
    }
   ],
   "source": [
    "#用Newton算法函数\n",
    "import numpy as np\n",
    "#定义函数以及导数，给出区间端点和目标误差\n",
    "def f(x):\n",
    "    return np.exp(x+1)-x-2\n",
    "\n",
    "def df(x):\n",
    "    return np.exp(x+1)-1\n",
    "\n",
    "x_0 = -1.1\n",
    "a = -2\n",
    "b = 2\n",
    "epsilon = 1e-10\n",
    "\n",
    "#用Newton算法求根\n",
    "def h(x):\n",
    "    return x - f(x)/df(x)\n",
    "\n",
    "x_1 = h(x_0)\n",
    "if abs(x_0-x_1) >= epsilon:\n",
    "    x_0 = x_1\n",
    "\n",
    "print((x_0+x_1)/2)"
   ]
  },
  {
   "cell_type": "code",
   "execution_count": null,
   "metadata": {},
   "outputs": [],
   "source": [
    "#第三问,由于该函数在区间内有4个根，故分为四个区间求解\n",
    "def f3(x):\n",
    "    return x**(-2)-math.sin(x)"
   ]
  },
  {
   "cell_type": "code",
   "execution_count": null,
   "metadata": {},
   "outputs": [
    {
     "data": {
      "text/plain": [
       "      converged: True\n",
       "           flag: converged\n",
       " function_calls: 42\n",
       "     iterations: 40\n",
       "           root: 1.0682235441977355"
      ]
     },
     "execution_count": 23,
     "metadata": {},
     "output_type": "execute_result"
    }
   ],
   "source": [
    "root_scalar(f3, method='bisect', bracket=[0.5, 2])"
   ]
  },
  {
   "cell_type": "code",
   "execution_count": null,
   "metadata": {},
   "outputs": [
    {
     "data": {
      "text/plain": [
       "      converged: True\n",
       "           flag: converged\n",
       " function_calls: 42\n",
       "     iterations: 40\n",
       "           root: 3.03264541839053"
      ]
     },
     "execution_count": 25,
     "metadata": {},
     "output_type": "execute_result"
    }
   ],
   "source": [
    "root_scalar(f3, method='bisect', bracket=[2, 4])"
   ]
  },
  {
   "cell_type": "code",
   "execution_count": null,
   "metadata": {},
   "outputs": [
    {
     "data": {
      "text/plain": [
       "      converged: True\n",
       "           flag: converged\n",
       " function_calls: 43\n",
       "     iterations: 41\n",
       "           root: 6.308316825268776"
      ]
     },
     "execution_count": 11,
     "metadata": {},
     "output_type": "execute_result"
    }
   ],
   "source": [
    "root_scalar(f3, method='bisect', bracket=[4, 8])"
   ]
  },
  {
   "cell_type": "code",
   "execution_count": null,
   "metadata": {},
   "outputs": [
    {
     "data": {
      "text/plain": [
       "      converged: True\n",
       "           flag: converged\n",
       " function_calls: 44\n",
       "     iterations: 42\n",
       "           root: 9.413492803170035"
      ]
     },
     "execution_count": 14,
     "metadata": {},
     "output_type": "execute_result"
    }
   ],
   "source": [
    "root_scalar(f3, method='bisect', bracket=[8,4*math.pi])"
   ]
  },
  {
   "cell_type": "code",
   "execution_count": null,
   "metadata": {},
   "outputs": [
    {
     "name": "stdout",
     "output_type": "stream",
     "text": [
      "1.0682235443382524\n"
     ]
    }
   ],
   "source": [
    "#Bisection算法函数，区间(0.5,2)\n",
    "import math\n",
    "def f(x):\n",
    "    return  x**(-2) - math.sin(x)\n",
    "a = 0.5\n",
    "b = 2\n",
    "epsilon = 1e-10\n",
    "\n",
    "while (b-a)/2 > epsilon:\n",
    "    midpoint = (a+b)/2\n",
    "    if f(midpoint) == 0:\n",
    "        print(midpoint)\n",
    "        break\n",
    "    elif f(a)*f(midpoint) < 0:\n",
    "        b = midpoint\n",
    "    elif f(a)*f(midpoint) > 0:\n",
    "        a = midpoint\n",
    "print(midpoint)"
   ]
  },
  {
   "cell_type": "code",
   "execution_count": null,
   "metadata": {},
   "outputs": [],
   "source": [
    "#Bisection算法函数，区间(2,4)\n",
    "import math\n",
    "def f(x):\n",
    "    return  x**(-2) - math.sin(x)\n",
    "a = 2\n",
    "b = 4\n",
    "epsilon = 1e-10\n",
    "\n",
    "while (b-a)/2 > epsilon:\n",
    "    midpoint = (a+b)/2\n",
    "    if f(midpoint) == 0:\n",
    "        print(midpoint)\n",
    "        break\n",
    "    elif f(a)*f(midpoint) < 0:\n",
    "        b = midpoint\n",
    "    elif f(a)*f(midpoint) > 0:\n",
    "        a = midpoint\n",
    "print(midpoint)"
   ]
  },
  {
   "cell_type": "code",
   "execution_count": null,
   "metadata": {},
   "outputs": [
    {
     "name": "stdout",
     "output_type": "stream",
     "text": [
      "6.308316825306974\n"
     ]
    }
   ],
   "source": [
    "#Bisection算法函数，区间(4,8)\n",
    "import math\n",
    "def f(x):\n",
    "    return  x**(-2) - math.sin(x)\n",
    "a = 4\n",
    "b = 8\n",
    "epsilon = 1e-10\n",
    "\n",
    "while (b-a)/2 > epsilon:\n",
    "    midpoint = (a+b)/2\n",
    "    if f(midpoint) == 0:\n",
    "        print(midpoint)\n",
    "        break\n",
    "    elif f(a)*f(midpoint) < 0:\n",
    "        b = midpoint\n",
    "    elif f(a)*f(midpoint) > 0:\n",
    "        a = midpoint\n",
    "print(midpoint)"
   ]
  },
  {
   "cell_type": "code",
   "execution_count": null,
   "metadata": {},
   "outputs": [
    {
     "name": "stdout",
     "output_type": "stream",
     "text": [
      "9.413492803218837\n"
     ]
    }
   ],
   "source": [
    "#Bisection算法函数，区间(8,4pi)\n",
    "import math\n",
    "def f(x):\n",
    "    return  x**(-2) - math.sin(x)\n",
    "a = 8\n",
    "b = 4*math.pi\n",
    "epsilon = 1e-10\n",
    "\n",
    "while (b-a)/2 > epsilon:\n",
    "    midpoint = (a+b)/2\n",
    "    if f(midpoint) == 0:\n",
    "        print(midpoint)\n",
    "        break\n",
    "    elif f(a)*f(midpoint) < 0:\n",
    "        b = midpoint\n",
    "    elif f(a)*f(midpoint) > 0:\n",
    "        a = midpoint\n",
    "print(midpoint)"
   ]
  },
  {
   "cell_type": "code",
   "execution_count": null,
   "metadata": {},
   "outputs": [
    {
     "name": "stdout",
     "output_type": "stream",
     "text": [
      "1.0668948842146844\n"
     ]
    }
   ],
   "source": [
    "#用Newton算法函数，区间(0.5,2)\n",
    "import numpy as np\n",
    "#定义函数以及导数，给出区间端点和目标误差\n",
    "def f(x):\n",
    "    return x**(-2) - math.sin(x)\n",
    "\n",
    "def df(x):\n",
    "    return -2*x**(-3) - math.cos(x)\n",
    "\n",
    "x_0 = 1.1\n",
    "a = 0.5\n",
    "b = 2\n",
    "epsilon = 1e-10\n",
    "\n",
    "#用Newton算法求根\n",
    "def h(x):\n",
    "    return x - f(x)/df(x)\n",
    "\n",
    "x_1 = h(x_0)\n",
    "if abs(x_0-x_1) >= epsilon:\n",
    "    x_0 = x_1\n",
    "\n",
    "print((x_0+x_1)/2)"
   ]
  },
  {
   "cell_type": "code",
   "execution_count": null,
   "metadata": {},
   "outputs": [
    {
     "name": "stdout",
     "output_type": "stream",
     "text": [
      "3.0327637224131627\n"
     ]
    }
   ],
   "source": [
    "#用Newton算法函数，区间(2,4)\n",
    "import numpy as np\n",
    "#定义函数以及导数，给出区间端点和目标误差\n",
    "def f(x):\n",
    "    return x**(-2) - math.sin(x)\n",
    "\n",
    "def df(x):\n",
    "    return -2*x**(-3) - math.cos(x)\n",
    "\n",
    "x_0 = 3\n",
    "a = 2\n",
    "b = 4\n",
    "epsilon = 1e-10\n",
    "\n",
    "#用Newton算法求根\n",
    "def h(x):\n",
    "    return x - f(x)/df(x)\n",
    "\n",
    "x_1 = h(x_0)\n",
    "if abs(x_0-x_1) >= epsilon:\n",
    "    x_0 = x_1\n",
    "\n",
    "print((x_0+x_1)/2)"
   ]
  },
  {
   "cell_type": "code",
   "execution_count": null,
   "metadata": {},
   "outputs": [
    {
     "name": "stdout",
     "output_type": "stream",
     "text": [
      "6.308316022712446\n"
     ]
    }
   ],
   "source": [
    "#用Newton算法函数，区间(4,8)\n",
    "import numpy as np\n",
    "#定义函数以及导数，给出区间端点和目标误差\n",
    "def f(x):\n",
    "    return x**(-2) - math.sin(x)\n",
    "\n",
    "def df(x):\n",
    "    return -2*x**(-3) - math.cos(x)\n",
    "\n",
    "x_0 = 6.3\n",
    "a = 4\n",
    "b = 8\n",
    "epsilon = 1e-10\n",
    "\n",
    "#用Newton算法求根\n",
    "def h(x):\n",
    "    return x - f(x)/df(x)\n",
    "\n",
    "x_1 = h(x_0)\n",
    "if abs(x_0-x_1) >= epsilon:\n",
    "    x_0 = x_1\n",
    "\n",
    "print((x_0+x_1)/2)"
   ]
  },
  {
   "cell_type": "code",
   "execution_count": null,
   "metadata": {},
   "outputs": [
    {
     "name": "stdout",
     "output_type": "stream",
     "text": [
      "9.41349472414831\n"
     ]
    }
   ],
   "source": [
    "#用Newton算法函数，区间(8,4pi)\n",
    "import numpy as np\n",
    "#定义函数以及导数，给出区间端点和目标误差\n",
    "def f(x):\n",
    "    return x**(-2) - math.sin(x)\n",
    "\n",
    "def df(x):\n",
    "    return -2*x**(-3) - math.cos(x)\n",
    "\n",
    "x_0 = 9.4\n",
    "a = 8\n",
    "b = 4*math.pi\n",
    "epsilon = 1e-10\n",
    "\n",
    "#用Newton算法求根\n",
    "def h(x):\n",
    "    return x - f(x)/df(x)\n",
    "\n",
    "x_1 = h(x_0)\n",
    "if abs(x_0-x_1) >= epsilon:\n",
    "    x_0 = x_1\n",
    "\n",
    "print((x_0+x_1)/2)"
   ]
  },
  {
   "cell_type": "code",
   "execution_count": null,
   "metadata": {},
   "outputs": [
    {
     "data": {
      "image/png": "[encoded data removed]",
      "text/plain": [
       "<Figure size 640x480 with 1 Axes>"
      ]
     },
     "metadata": {},
     "output_type": "display_data"
    }
   ],
   "source": [
    "#问题四 误差分析\n",
    "import matplotlib.pyplot as plt\n",
    "\n",
    "#设置中文字体\n",
    "plt.rcParams['font.sans-serif'] = ['SimHei']\n",
    "plt.rcParams['axes.unicode_minus'] = False\n",
    "\n",
    "#定义函数以及导数，给出区间端点和目标误差\n",
    "def f(x):\n",
    "    return x**2 - 2\n",
    "\n",
    "def df(x):\n",
    "    return 2*x\n",
    "a = 1\n",
    "b = 2\n",
    "epsilon = 1e-10\n",
    "\n",
    "#定义Bisection算法函数,记录每次迭代得到的近似根\n",
    "def bisection(f, a, b, epsilon):\n",
    "    iterations = []\n",
    "    roots = []\n",
    "    while (b-a)/2 > epsilon:\n",
    "        midpoint = (a+b)/2\n",
    "        iterations.append(midpoint)\n",
    "        if f(midpoint) == 0:\n",
    "            roots.append(midpoint)\n",
    "            break\n",
    "        elif f(a)*f(midpoint) < 0:\n",
    "            b = midpoint\n",
    "        else:\n",
    "            a = midpoint\n",
    "        roots.append(midpoint)\n",
    "    return iterations, roots\n",
    "\n",
    "#定义Newton算法函数，记录每次迭代得到的近似根\n",
    "def newton(f, df, x_0, epsilon):\n",
    "    iterations = []\n",
    "    roots = []\n",
    "    def h(x):\n",
    "        return x - f(x)/df(x)\n",
    "    \n",
    "    x_1 = h(x_0)\n",
    "    iterations.append(x_1)\n",
    "    while abs(x_0 - x_1) >= epsilon:\n",
    "        x_0 = x_1\n",
    "        x_1 = h(x_0)\n",
    "        iterations.append(x_1)\n",
    "    roots.append((x_0 + x_1)/2)\n",
    "    return iterations, roots\n",
    "\n",
    "#绘制图表\n",
    "bisection_iterations, bisection_roots = bisection(f, a, b, epsilon)\n",
    "\n",
    "newton_iterations, newton_roots = newton(f, df, (a+b)/2, epsilon)\n",
    "\n",
    "plt.plot(bisection_iterations, label='Bisection算法')\n",
    "plt.plot(newton_iterations, label='Newton算法')\n",
    "plt.xlabel('迭代次数')\n",
    "plt.ylabel('近似根')\n",
    "plt.legend()\n",
    "plt.show()\n"
   ]
  }
 ],
 "metadata": {
  "kernelspec": {
   "display_name": "Python 3",
   "language": "python",
   "name": "python3"
  },
  "language_info": {
   "codemirror_mode": {
    "name": "ipython",
    "version": 3
   },
   "file_extension": ".py",
   "mimetype": "text/x-python",
   "name": "python",
   "nbconvert_exporter": "python",
   "pygments_lexer": "ipython3",
   "version": "3.12.0"
  }
 },
 "nbformat": 4,
 "nbformat_minor": 2
}
