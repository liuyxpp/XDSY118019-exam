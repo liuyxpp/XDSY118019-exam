import numpy as np
import matplotlib.pyplot as plt

# 1. 计算Hénon map的函数
def henon_map(a, b, u0, N):
    x, y = u0
    trajectory = [(x, y)]
    for _ in range(N - 1):
        x_next, y_next = 1 - a * x**2 + y, b * x
        trajectory.append((x_next, y_next))
        x, y = x_next, y_next
    return trajectory

# 2. 计算经典Hénon map的轨迹并绘制轨迹图
def plot_henon_trajectory(a, b, u0, N):
    trajectory = henon_map(a, b, u0, N)
    x_values = [point[0] for point in trajectory]
    y_values = [point[1] for point in trajectory]
    plt.figure(figsize=(10, 10))
    plt.plot(x_values, y_values, 'o', markersize=1)
    plt.xlabel('x')
    plt.ylabel('y')
    plt.title(f'Hénon Map Trajectory (a={a}, b={b}, N={N})')
    plt.show()

# 3. 计算Hénon map的orbit diagram并绘制
def henon_orbit_diagram(b, a_min, a_max, a_steps, N):
    a_values = np.linspace(a_min, a_max, a_steps)
    x_points = []
    a_points = []

    for a in a_values:
        trajectory = henon_map(a, b, (0, 0), N)
        x_values = [point[0] for point in trajectory]  
        x_points.extend(x_values)
        a_points.extend([a] * N)
    plt.figure(figsize=(10, 10))
    plt.plot(a_points, x_points, ',k', markersize=1)
    plt.xlabel('a')
    plt.ylabel('x')
    plt.title('Hénon Map Orbit Diagram (b=0.3)')
    plt.show()



# 使用函数
# 经典Hénon map参数
a_classic = 1.4
b_classic = 0.3
u0_classic = (0, 0)
N_classic = 10000

# 绘制经典Hénon map轨迹图
plot_henon_trajectory(a_classic, b_classic, u0_classic, N_classic)

# 探索N不同时轨迹图的变化
N_classic1 = 1000
plot_henon_trajectory(a_classic, b_classic, u0_classic, N_classic1)

N_classic2 = 100
plot_henon_trajectory(a_classic, b_classic, u0_classic, N_classic2)


# 绘制Hénon map的orbit diagram
henon_orbit_diagram(b_classic, 1.0,1.4,1000, 500)

# 从 orbit diagram 中可以观察周期性行为，选择 a=1.04 为周期性轨道
a_periodic = 1.04
# 绘制该a值对应的Hénon map轨迹图
plot_henon_trajectory(a_periodic, b_classic, u0_classic, 1000000) # 选择一个较大的 N 值以验证周期性轨道
