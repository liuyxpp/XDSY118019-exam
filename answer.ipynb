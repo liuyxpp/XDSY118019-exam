{
 "cells": [
  {
   "cell_type": "markdown",
   "id": "495a6b7d",
   "metadata": {},
   "source": [
    "# **Part1**"
   ]
  },
  {
   "cell_type": "code",
   "execution_count": null,
   "id": "84a421e4",
   "metadata": {},
   "outputs": [],
   "source": [
    "def bisection(f, a, b, epsilon):\n",
    "    if f(a) * f(b) >= 0:\n",
    "        print(\"Bisection method fails.\")\n",
    "        return None\n",
    "\n",
    "    while (b - a) / 2.0 > epsilon:\n",
    "        midpoint = (a + b) / 2.0\n",
    "        if f(midpoint) == 0:\n",
    "            return midpoint\n",
    "        elif f(a) * f(midpoint) < 0:\n",
    "            b = midpoint\n",
    "        else:\n",
    "            a = midpoint\n",
    "\n",
    "    return (a + b) / 2.0\n"
   ]
  },
  {
   "cell_type": "code",
   "execution_count": null,
   "id": "004adf5a",
   "metadata": {},
   "outputs": [],
   "source": [
    "def newton(f, df, x0, epsilon):\n",
    "    while abs(f(x0)) > epsilon:\n",
    "        x0 = x0 - f(x0) / df(x0)\n",
    "    return x0\n"
   ]
  },
  {
   "cell_type": "code",
   "execution_count": null,
   "id": "ba45e4dd",
   "metadata": {},
   "outputs": [],
   "source": [
    "#使用 Numpy/Scipy 求解特定方程\n",
    "import numpy as np\n",
    "from scipy.optimize import fsolve\n",
    "\n",
    "def equation1(x):\n",
    "    return 2 * x - np.tan(x)\n",
    "\n",
    "root1 = fsolve(equation1, 0) \n",
    "\n",
    "def equation2(x):\n",
    "    return np.exp(x) + 1 - 2 - x\n",
    "\n",
    "root2 = fsolve(equation2, 0) \n",
    "\n",
    "\n",
    "def equation3(x):\n",
    "    return x - 2 - np.sin(x)\n",
    "\n",
    "initial_guesses = [1, 4, 10, 13]\n",
    "roots3 = [fsolve(equation3, guess) for guess in initial_guesses]\n",
    "\n"
   ]
  },
  {
   "cell_type": "code",
   "execution_count": null,
   "id": "ea842544",
   "metadata": {},
   "outputs": [],
   "source": [
    "#误差分析\n",
    "import matplotlib.pyplot as plt\n",
    "\n",
    "def f(x):\n",
    "    return x**2 - 2\n",
    "\n",
    "def df(x):\n",
    "    return 2 * x\n",
    "\n",
    "# Bisection 算法\n",
    "bisection_root, bisection_iterations = bisection(f, 1, 2, 1e-6, return_iterations=True)\n",
    "\n",
    "# Newton 算法\n",
    "newton_root, newton_iterations = newton(f, df, 1.5, 1e-6, return_iterations=True)\n",
    "\n",
    "# 绘制结果\n",
    "plt.plot(bisection_iterations, label='Bisection')\n",
    "plt.plot(newton_iterations, label='Newton')\n",
    "plt.xlabel('Iteration')\n",
    "plt.ylabel('Root estimate')\n",
    "plt.legend()\n",
    "plt.show()\n"
   ]
  },
  {
   "cell_type": "markdown",
   "id": "a45e1d38",
   "metadata": {},
   "source": [
    "#### 收敛速度对比图\n",
    "![](2023-11-16-20-55-48.png)"
   ]
  },
  {
   "cell_type": "markdown",
   "id": "14882d16",
   "metadata": {},
   "source": [
    "# **Part2**"
   ]
  },
  {
   "cell_type": "code",
   "execution_count": null,
   "id": "51fe9d41",
   "metadata": {},
   "outputs": [],
   "source": [
    "import numpy as np\n",
    "import matplotlib.pyplot as plt\n",
    "from scipy.stats import linregress\n",
    "from scipy.optimize import curve_fit\n",
    "\n",
    "\n",
    "data = np.loadtxt('/mnt/data/uspop.txt')\n",
    "years = data[:, 0]\n",
    "population = data[:, 1]\n",
    "\n",
    "\n",
    "slope, intercept, r_value, p_value, std_err = linregress(years, population)\n",
    "\n",
    "\n",
    "def linear(x, slope, intercept):\n",
    "    return slope * x + intercept\n",
    "\n",
    "def exponential(x, a, c):\n",
    "    return a * np.exp(c * x)\n",
    "\n",
    "initial_values = [np.max(population), 0.01]\n",
    "params, covariance = curve_fit(exponential, years, population, p0=initial_values)\n",
    "\n",
    "\n",
    "plt.figure(figsize=(14, 7))\n",
    "plt.scatter(years, population, color='blue', label='Original Data')\n",
    "plt.plot(years, linear(years, slope, intercept), 'r-', label=f'Linear Fit: y = {slope:.2f}x + {intercept:.2f}')\n",
    "plt.plot(years, exponential(years, *params), 'g--', label=f'Exponential Fit: y = {params[0]:.2e} * exp({params[1]:.2e} * x)')\n",
    "\n",
    "log_population = np.log(population)\n",
    "slope_log, intercept_log, r_value_log, p_value_log, std_err_log = linregress(years, log_population)\n",
    "\n",
    "plt.plot(years, np.exp(intercept_log) * np.exp(slope_log * years), 'm-.', label='Transformed Linear Fit')\n",
    "\n",
    "plt.xlabel('Year')\n",
    "plt.ylabel('Population')\n",
    "plt.title('US Population Over Time')\n",
    "plt.legend()\n",
    "\n",
    "plt.show()\n"
   ]
  },
  {
   "cell_type": "markdown",
   "id": "89c53349",
   "metadata": {},
   "source": [
    "![](2023-11-16-20-52-51.png)"
   ]
  },
  {
   "cell_type": "raw",
   "id": "1ab26b58",
   "metadata": {},
   "source": [
    "% 生成球面的坐标\n",
    "[x, y, z] = sphere(100);  % 100代表生成的网格的细粒度\n",
    "\n",
    "% 渲染球面\n",
    "figure;\n",
    "surf(x, y, z, 'FaceColor', 'green', 'EdgeColor', 'none');\n",
    "\n",
    "% 调整视角和渲染\n",
    "daspect([1 1 1]);\n",
    "view(3);\n",
    "axis tight;\n",
    "camlight;\n",
    "lighting gouraud;\n"
   ]
  },
  {
   "cell_type": "markdown",
   "id": "963822bd",
   "metadata": {},
   "source": [
    "![](2023-11-16-20-51-15.png)"
   ]
  },
  {
   "cell_type": "raw",
   "id": "05b9fb5e",
   "metadata": {},
   "source": [
    "% 生成椭球面\n",
    "% 定义网格空间\n",
    "[x, y, z] = meshgrid(linspace(-2, 2, 100), linspace(-2, 2, 100), linspace(-1, 1, 100));\n",
    "\n",
    "% 定义椭球面函数\n",
    "a = 1; % x轴的半径\n",
    "b = 2; % y轴的半径\n",
    "c = 1; % z轴的半径\n",
    "v = (x/a).^2 + (y/b).^2 + (z/c).^2;\n",
    "\n",
    "% 提取等值面\n",
    "figure;\n",
    "f = isosurface(x, y, z, v, 1);\n",
    "\n",
    "% 使用 patch 函数创建图形对象\n",
    "p = patch(f);\n",
    "\n",
    "% 设置图形对象属性\n",
    "set(p, 'FaceColor', 'red', 'EdgeColor', 'none');\n",
    "\n",
    "% 调整视角和渲染\n",
    "daspect([1 1 1]);\n",
    "view(3); \n",
    "axis tight;\n",
    "camlight;\n",
    "lighting gouraud;\n"
   ]
  },
  {
   "cell_type": "markdown",
   "id": "f12de8b6",
   "metadata": {},
   "source": [
    "![](2023-11-16-20-52-06.png)"
   ]
  },
  {
   "cell_type": "raw",
   "id": "9ed2851c",
   "metadata": {},
   "source": [
    "Integrate[(Sin[x] - Sin[3 x] + Sin[5 x])/(Cos[x] + Cos[3 x] + Cos[5 x]), x]\n"
   ]
  },
  {
   "cell_type": "markdown",
   "id": "6f6193db",
   "metadata": {},
   "source": [
    "# **Lorenz Attractor**\n",
    "\n",
    "The Lorenz attractor is an <span style=\"color:blue\">attractor</span> that arises in a simplified system of equations describing the two-dimensional flow of fluid. In the early 1960s Lorenz accidentally discovered the chaotic behavior of this system when he found that for a simplified system periodic solutions of the form\n",
    "\n",
    "$$\n",
    "\\psi = \\psi_0 \\sin\\left(\\frac{\\pi a x}{H}\\right) \\sin\\left(\\frac{\\pi z}{H}\\right)\n",
    "$$\n",
    "\n",
    "$$\n",
    "\\theta = \\theta_0 \\cos\\left(\\frac{\\pi a x}{H}\\right) \\sin\\left(\\frac{\\pi z}{H}\\right)\n",
    "$$\n",
    "\n",
    "grew for Rayleigh numbers larger than the critical value \\( Ra > Ra_c \\). Furthermore, vastly different results were obtained for very small changes in the initial values representing one of the earliest discoveries of the so-called <span style=\"color:blue\">butterfly effect</span>.\n",
    "\n",
    "Lorenz obtained the simplified equations\n",
    "\n",
    "$$\n",
    "\\dot{X} = \\sigma(Y - X)\n",
    "$$\n",
    "\n",
    "$$\n",
    "\\dot{Y} = X(\\rho - Z) - Y\n",
    "$$\n",
    "\n",
    "$$\n",
    "\\dot{Z} = XY - \\beta Z\n",
    "$$\n",
    "\n",
    "now known as the Lorenz equations.\n"
   ]
  }
 ],
 "metadata": {
  "kernelspec": {
   "display_name": "Python 3 (ipykernel)",
   "language": "python",
   "name": "python3"
  },
  "language_info": {
   "codemirror_mode": {
    "name": "ipython",
    "version": 3
   },
   "file_extension": ".py",
   "mimetype": "text/x-python",
   "name": "python",
   "nbconvert_exporter": "python",
   "pygments_lexer": "ipython3",
   "version": "3.11.5"
  }
 },
 "nbformat": 4,
 "nbformat_minor": 5
}
