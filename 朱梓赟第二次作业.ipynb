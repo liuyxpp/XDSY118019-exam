{
 "cells": [
  {
   "cell_type": "markdown",
   "id": "e0d29fda",
   "metadata": {},
   "source": [
    "第一题"
   ]
  },
  {
   "cell_type": "code",
   "execution_count": 2,
   "id": "627e0afd",
   "metadata": {},
   "outputs": [],
   "source": [
    "import numpy as np\n",
    "\n",
    "def format_number(num, decimals=0, last_digit=[]):\n",
    "    '''Format a number to a string suitable for the name of a data directory.\n",
    "\n",
    "    Args:\n",
    "        num (float): a float number to be formatted.\n",
    "        decimals (Optional[int]): Number of decimal places to round to. If decimals is negative, it specifies the number of positions to the left of the decimal point. Default: 0 (round to integer).\n",
    "        last_digit (Optional[List(int)]): A list of single digits that is allowed for the last digit of the output number. Default: [] (all digits are allowed).\n",
    "\n",
    "    Returns:\n",
    "        str: a string represents a float number.\n",
    "    '''\n",
    "    decimals = int(decimals)  # ensure it is an integer\n",
    "    num_rounded = round(num, decimals)\n",
    "    if decimals > 0:\n",
    "        format = '{:.' + repr(decimals) + 'f}'\n",
    "        numstr = format.format(num_rounded)\n",
    "    else:\n",
    "        num_rounded = int(num_rounded)\n",
    "        numstr = '{:d}'.format(num_rounded)\n",
    "\n",
    "    numstr = list(numstr)  # to ease manipulation\n",
    "    last = int(numstr[-1])\n",
    "\n",
    "    if last_digit:\n",
    "        if last not in last_digit:\n",
    "            i = np.searchsorted(np.sort(last_digit), last)\n",
    "            if i == 0:\n",
    "                left = last_digit[0]\n",
    "                right = last_digit[1]\n",
    "            elif i == len(last_digit):\n",
    "                left = last_digit[-2]\n",
    "                right = last_digit[-1]\n",
    "            else:\n",
    "                left = last_digit[i - 1]\n",
    "                right = last_digit[i]\n",
    "            numstr[-1] = repr(left)\n",
    "            num_left = float(''.join(numstr))\n",
    "            numstr[-1] = repr(right)\n",
    "            num_right = float(''.join(numstr))\n",
    "            if abs(num) - abs(num_left) < abs(num_right) - abs(num):\n",
    "                numstr[-1] = repr(left)\n",
    "            else:\n",
    "                numstr[-1] = repr(right)\n",
    "\n",
    "    return ''.join(numstr)"
   ]
  },
  {
   "cell_type": "code",
   "execution_count": 3,
   "id": "1fb782d7",
   "metadata": {},
   "outputs": [
    {
     "data": {
      "text/plain": [
       "'1'"
      ]
     },
     "execution_count": 3,
     "metadata": {},
     "output_type": "execute_result"
    }
   ],
   "source": [
    "format_number(1.414)"
   ]
  },
  {
   "cell_type": "code",
   "execution_count": 4,
   "id": "b07a0b39",
   "metadata": {},
   "outputs": [
    {
     "data": {
      "text/plain": [
       "'1.4'"
      ]
     },
     "execution_count": 4,
     "metadata": {},
     "output_type": "execute_result"
    }
   ],
   "source": [
    "format_number(1.414,decimals=1)"
   ]
  },
  {
   "cell_type": "code",
   "execution_count": 29,
   "id": "c489cfec",
   "metadata": {},
   "outputs": [
    {
     "data": {
      "text/plain": [
       "'0'"
      ]
     },
     "execution_count": 29,
     "metadata": {},
     "output_type": "execute_result"
    }
   ],
   "source": [
    "format_number(1.414,decimals=-1)"
   ]
  },
  {
   "cell_type": "code",
   "execution_count": 30,
   "id": "77285608",
   "metadata": {},
   "outputs": [
    {
     "data": {
      "text/plain": [
       "'1'"
      ]
     },
     "execution_count": 30,
     "metadata": {},
     "output_type": "execute_result"
    }
   ],
   "source": [
    "format_number(1.414,last_digit=[1])"
   ]
  },
  {
   "cell_type": "code",
   "execution_count": 44,
   "id": "336c3a00",
   "metadata": {},
   "outputs": [
    {
     "data": {
      "text/plain": [
       "'1'"
      ]
     },
     "execution_count": 44,
     "metadata": {},
     "output_type": "execute_result"
    }
   ],
   "source": [
    "format_number(1.414,last_digit=[1,2,5])"
   ]
  },
  {
   "cell_type": "code",
   "execution_count": 43,
   "id": "0b09595c",
   "metadata": {},
   "outputs": [
    {
     "data": {
      "text/plain": [
       "'0'"
      ]
     },
     "execution_count": 43,
     "metadata": {},
     "output_type": "execute_result"
    }
   ],
   "source": [
    "format_number(1.414,decimals=-1, last_digit=[0])"
   ]
  },
  {
   "cell_type": "code",
   "execution_count": 34,
   "id": "68849247",
   "metadata": {},
   "outputs": [
    {
     "data": {
      "text/plain": [
       "'1.4'"
      ]
     },
     "execution_count": 34,
     "metadata": {},
     "output_type": "execute_result"
    }
   ],
   "source": [
    "format_number(1.414,decimals=1, last_digit=[4])"
   ]
  },
  {
   "cell_type": "code",
   "execution_count": 36,
   "id": "30153ec7",
   "metadata": {},
   "outputs": [
    {
     "data": {
      "text/plain": [
       "'0.3240'"
      ]
     },
     "execution_count": 36,
     "metadata": {},
     "output_type": "execute_result"
    }
   ],
   "source": [
    "format_number(0.324,decimals=4, last_digit=[0])"
   ]
  },
  {
   "cell_type": "code",
   "execution_count": 46,
   "id": "10be5d17",
   "metadata": {},
   "outputs": [
    {
     "data": {
      "text/plain": [
       "'-0.32'"
      ]
     },
     "execution_count": 46,
     "metadata": {},
     "output_type": "execute_result"
    }
   ],
   "source": [
    "format_number(-0.324,decimals=2, last_digit=[2])"
   ]
  },
  {
   "cell_type": "code",
   "execution_count": 38,
   "id": "ff733059",
   "metadata": {},
   "outputs": [
    {
     "data": {
      "text/plain": [
       "'324.000'"
      ]
     },
     "execution_count": 38,
     "metadata": {},
     "output_type": "execute_result"
    }
   ],
   "source": [
    "format_number(324,decimals=3, last_digit=[0])"
   ]
  },
  {
   "cell_type": "code",
   "execution_count": 41,
   "id": "54f6ca57",
   "metadata": {},
   "outputs": [
    {
     "data": {
      "text/plain": [
       "'300'"
      ]
     },
     "execution_count": 41,
     "metadata": {},
     "output_type": "execute_result"
    }
   ],
   "source": [
    "format_number(324,decimals=-2, last_digit=[0])"
   ]
  },
  {
   "cell_type": "markdown",
   "id": "31ecf249",
   "metadata": {},
   "source": [
    "第二题"
   ]
  },
  {
   "cell_type": "code",
   "execution_count": 47,
   "id": "6573e537",
   "metadata": {},
   "outputs": [],
   "source": [
    "import numpy as np"
   ]
  },
  {
   "cell_type": "code",
   "execution_count": 48,
   "id": "4b7d9e12",
   "metadata": {},
   "outputs": [],
   "source": [
    "A=np.array([[1,0,-3,0,5],\n",
    "            [4,-1,3,-2,9],\n",
    "            [0,3,2,-5,1],\n",
    "            [0,0,1,-4,7],\n",
    "            [9,8,7,6,5]])"
   ]
  },
  {
   "cell_type": "code",
   "execution_count": 49,
   "id": "8a73e16b",
   "metadata": {},
   "outputs": [],
   "source": [
    "b=np.array([1,2,3,4,5])"
   ]
  },
  {
   "cell_type": "code",
   "execution_count": 50,
   "id": "848be5c2",
   "metadata": {},
   "outputs": [
    {
     "data": {
      "text/plain": [
       "array([-0.86199095,  0.78506787,  0.37669683,  0.14140271,  0.59841629])"
      ]
     },
     "execution_count": 50,
     "metadata": {},
     "output_type": "execute_result"
    }
   ],
   "source": [
    "x = np.linalg.inv(A) @ b\n",
    "x"
   ]
  },
  {
   "cell_type": "markdown",
   "id": "3e406c92",
   "metadata": {},
   "source": [
    "第三题"
   ]
  },
  {
   "attachments": {
    "untitled.jpg": {
     "image/jpeg": "[encoded data removed]"
    }
   },
   "cell_type": "markdown",
   "id": "050113cd",
   "metadata": {},
   "source": [
    "![untitled.jpg](attachment:untitled.jpg)"
   ]
  },
  {
   "cell_type": "markdown",
   "id": "45b0ceed",
   "metadata": {},
   "source": [
    "第四题"
   ]
  },
  {
   "cell_type": "markdown",
   "id": "f1c63ccc",
   "metadata": {},
   "source": [
    "$\\frac{\\pi^2}{6}$\n",
    "\n",
    "$\\frac{\\pi^4}{90}$\n",
    "\n",
    "$\\frac{\\pi^6}{945}$\n",
    "\n",
    "$\\frac{\\pi^8}{9450}$\n",
    "\n",
    "$\\frac{\\pi^{10}}{93555}$"
   ]
  },
  {
   "cell_type": "markdown",
   "id": "bfff1311",
   "metadata": {},
   "source": [
    "第五题"
   ]
  },
  {
   "cell_type": "markdown",
   "id": "e52478ff",
   "metadata": {},
   "source": [
    "The **Riemann zeta function** or **Euler-Riemann zeta function**, denote by the Greek letter $\\zeta$(zeta), is a mathematical function of a complex variable $s = \\sigma + it$ defined as\n",
    "\n",
    "$$\\zeta(s) = \\sum_{n=1}^{\\infty}\\frac{1}{n^s} = \\frac{1}{1^s}+\\frac{1}{2^s}+\\frac{1}{3^s}+\\cdots$$\n",
    "\n",
    "for $Re(s) > 1$ and its analytic continuation elsewhere. When $Re(s) = \\sigma > 1$,the function can be written as a converging summation or integral:\n",
    "\n",
    "$$\\zeta(s) = \\sum_{n=1}^{\\infty}\\frac{1}{n^s} =\\frac{1}{\\Gamma(s)}\\int_0^{\\infty}\\frac{x^{s-1}}{e^{-x}-1}dx$$\n",
    "\n",
    "where\n",
    "\n",
    "$$\\Gamma(s) = \\int_0^{\\infty}x^{s-1}e^{-x}dx$$\n",
    "\n",
    "is the gamma function.\n",
    "\n",
    "\n",
    "In 1737, the connection between the zeta function and prime numbers was discovered by Euler, who proved the identity\n",
    "\n",
    "$$\\sum_{n=1}^{\\infty}\\frac{1}{n^s} =\\prod_{p \\ \\text{prime}} \\frac{1}{1-p^{-s}}$$\n",
    "\n",
    "where, by definition, the left hand side is $\\zeta(s)$ and the infinite product on the right hand side extends over all prime numbers $p$ (such expressions are called Euler products):\n",
    "\n",
    "$$\\prod_{p \\ \\text{prime}} \\frac{1}{1-p^{-s}}=\\frac{1}{1-2^{-s}}\\cdot\\frac{1}{1-3^{-s}}\\cdot\\frac{1}{1-5^{-s}}\\cdot\\frac{1}{1-7^{-s}}\\cdot\\frac{1}{1-11^{-s}}\\cdots\\frac{1}{1-p^{-s}}\\cdots$$\n",
    "\n",
    "Both sides of the Euler product formula converge for $Re(s) >1$."
   ]
  }
 ],
 "metadata": {
  "kernelspec": {
   "display_name": "Python 3 (ipykernel)",
   "language": "python",
   "name": "python3"
  },
  "language_info": {
   "codemirror_mode": {
    "name": "ipython",
    "version": 3
   },
   "file_extension": ".py",
   "mimetype": "text/x-python",
   "name": "python",
   "nbconvert_exporter": "python",
   "pygments_lexer": "ipython3",
   "version": "3.9.13"
  }
 },
 "nbformat": 4,
 "nbformat_minor": 5
}
